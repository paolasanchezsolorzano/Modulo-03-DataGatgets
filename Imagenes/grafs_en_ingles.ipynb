{
 "cells": [
  {
   "cell_type": "code",
   "execution_count": null,
   "metadata": {},
   "outputs": [],
   "source": [
    "grupos_de_satisfaccion = ['High Satisfaction Level', 'Low Satisfaction Level']\n",
    "tasa_rotacion_grupos_satisfaccion = [0.16, 0.24]\n",
    "\n",
    "plt.figure(figsize=(5, 4))\n",
    "plt.bar(grupos_de_satisfaccion, tasa_rotacion_grupos_satisfaccion, color=['#AEC6CF', 'lightseagreen'])\n",
    "\n",
    "plt.title('Turnover rate by Satisfaction Level',color= 'darkslategray', fontsize= 14,  fontweight='bold');\n",
    "plt.ylabel('Turnover Rate', color= 'darkslategray', fontsize= 11)\n",
    "plt.show()"
   ]
  },
  {
   "cell_type": "code",
   "execution_count": null,
   "metadata": {},
   "outputs": [],
   "source": [
    "\n",
    "sns.boxplot(x='Performance_Rating', y='Percent_Salary_Hike', data=df, color= \"lightseagreen\", fliersize = 5, # Tamaño de los atípicos\n",
    "            linewidth = 1,  # Grosor de las líneas\n",
    "            saturation = 0.95)\n",
    "plt.title('Relation between Performance Rating and Salary Hike', color=  'darkslategray', fontsize= 14);\n",
    "plt.ylabel(\"Percent Salary Hike\", color=  'darkslategray', fontsize= 11)\n",
    "plt.xlabel(\"Performance Rating\", color=  'darkslategray', fontsize= 11)\n",
    "plt.show()"
   ]
  },
  {
   "cell_type": "code",
   "execution_count": null,
   "metadata": {},
   "outputs": [],
   "source": [
    "fig, axes= plt.subplots(2, 2, figsize= (20, 15))\n",
    "\n",
    "#num companys worked y age tienen correlacion moderada\n",
    "sns.lineplot(x= \"Num_Companies_Worked\", y= \"Age\", data=df, color=\"lightseagreen\", ax=axes[0,0]);\n",
    "# Los empleados entre 40 y 42 años han trabajado en más empresas que los empleados más jóvenes que ellos.\n",
    "axes[0, 0].set_title('Relation between Age and Total of Companies Worked ', color= 'darkslategray', fontsize= 14,  fontweight='bold' )\n",
    "axes[0, 0].set_xlabel('Number of Companies Worked', color= 'darkslategray', fontsize= 12)\n",
    "axes[0, 0].set_ylabel('Age', color= 'darkslategray', fontsize= 11)\n",
    "\n",
    "#percent salary hike y perfomance rating tienen correlacion MODERADA\n",
    "sns.lineplot(x= \"Performance_Rating\", y=\"Percent_Salary_Hike\", data=df, color='lightseagreen', ax =axes[0,1]);\n",
    "#A más nivel de desempeño, más sube el porcentaje de los salarios.\n",
    "# Señal de prácticas saludables de la empresa, que recompensan a los empleados con un buen nivel de desempeño con aumentos de sueldo.\n",
    "axes[0, 1].set_title('Relation between Performance Rating and Percent of Salary Hike', color= 'darkslategray', fontsize= 14,  fontweight='bold')\n",
    "axes[0, 1].set_xlabel('Performance Rating', color= 'darkslategray', fontsize= 12)\n",
    "axes[0, 1].set_ylabel('Percent of Salary Hike', color= 'darkslategray', fontsize= 11)\n",
    "\n",
    "#job level y total working years tienen correlacion MODERADA\n",
    "sns.lineplot(data=df, x='Total_Working_Years', y='Job_Level', color='lightseagreen', ax =axes[1,0])\n",
    "#A más años trabajados, más aumenta el cargo de los trabajadores. Lo que puede indicar que hay promoción en los empleados de la empresa a medida que pasan los años.\n",
    "axes[1, 0].set_title('Relation between working years and job level', color= 'darkslategray', fontsize= 14,  fontweight='bold')\n",
    "axes[1, 0].set_xlabel('Total Working Years', color= 'darkslategray', fontsize= 12)\n",
    "axes[1, 0].set_ylabel('Employee Job Level', color= 'darkslategray', fontsize= 11)\n",
    "\n",
    "#years with current manager y total working years tienen correlacion MODERADA\n",
    "sns.lineplot(data=df, x='Years_With_Curr_Manager', y='Total_Working_Years', color='lightseagreen', ax =axes[1,1])\n",
    "axes[1, 1].set_title('Relation between Years with Current Manager and Total Working Years', color= 'darkslategray', fontsize= 14, fontweight='bold')\n",
    "axes[1, 1].set_xlabel('Years with Current Manager', color= 'darkslategray', fontsize= 12)\n",
    "axes[1, 1].set_ylabel('Total Working Years', color= 'darkslategray', fontsize= 11)"
   ]
  },
  {
   "cell_type": "code",
   "execution_count": null,
   "metadata": {},
   "outputs": [],
   "source": [
    "plt.figure(figsize=(8, 6))\n",
    "\n",
    "\n",
    "#num companies worked y age tienen correlacion moderada\n",
    "sns.lineplot(x= \"Num_Companies_Worked\", y= \"Age\", data=df, color='lightseagreen');\n",
    "# Los empleados entre 40 y 42 años han trabajado en más empresas que los empleados más jóvenes que ellos.\n",
    "plt.title('Relation between Age and Total Companies Worked', color= 'darkslategray', fontsize= 14, fontweight='bold')\n",
    "plt.xlabel('Number of Companies Worked', color= 'darkslategray', fontsize= 11)\n",
    "plt.ylabel('Employee´s Age', color= 'darkslategray', fontsize= 11)\n",
    "plt.show()"
   ]
  },
  {
   "cell_type": "code",
   "execution_count": null,
   "metadata": {},
   "outputs": [],
   "source": [
    "sns.lineplot(x= \"Years_At_Company\", y= \"Years_With_Curr_Manager\", data= df, color='lightseagreen');\n",
    "plt.title(\"Relation between Years at the Company and Years with Current Manager\", color= 'darkslategray', fontsize= 14, fontweight='bold')\n",
    "plt.xlabel(\"Years at the company\", color= 'darkslategray', fontsize= 11)\n",
    "plt.ylabel(\"Years with Current manager\", color= 'darkslategray', fontsize= 11)\n",
    "\n",
    "plt.show()"
   ]
  },
  {
   "cell_type": "code",
   "execution_count": null,
   "metadata": {},
   "outputs": [],
   "source": [
    "sns.barplot(x=\"Education\", y=\"Job_Level\", data=df, color='lightseagreen')\n",
    "plt.title(\"Relation between Education and Job Level\", color= 'darkslategray', fontsize= 14, fontweight='bold')\n",
    "plt.xlabel(\"Education\", color= 'darkslategray', fontsize= 11)\n",
    "plt.ylabel(\"Job Level\", color= 'darkslategray', fontsize= 11)\n",
    "\n",
    "plt.show()"
   ]
  }
 ],
 "metadata": {
  "language_info": {
   "name": "python"
  }
 },
 "nbformat": 4,
 "nbformat_minor": 2
}
